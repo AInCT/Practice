{
 "cells": [
  {
   "cell_type": "code",
   "execution_count": 7,
   "metadata": {
    "collapsed": true
   },
   "outputs": [],
   "source": [
    "import tensorflow as tf"
   ]
  },
  {
   "cell_type": "code",
   "execution_count": 8,
   "metadata": {
    "collapsed": false
   },
   "outputs": [],
   "source": [
    "x = [3,5,7,9,11]  # x에 대한 리스트\n",
    "w = [1,2,3,4,5]   # w에 대한 리스트\n",
    "b = tf.zeros([1]) # 바이어스"
   ]
  },
  {
   "cell_type": "code",
   "execution_count": 11,
   "metadata": {
    "collapsed": false
   },
   "outputs": [],
   "source": [
    "p = [0 for i in range(5)] # x가 들어갈 placeholer의 리스트\n",
    "for i in range(0,5):      # 0부터 4까지 반복\n",
    "    p[i] = tf.placeholder(dtype=tf.float32)    # placceholder 생성\n",
    "# placeholder에 피드 할 값\n",
    "feed_dict = {p[0]: x[0], p[1]: x[1], p[2]: x[2], p[3]: x[3], p[4]: x[4]}\n",
    "\n",
    "v = [0 for i in range(5)] # w가 들어갈 variable의 리스트\n",
    "for i in range(0,5):      # 0부터 4까지 반복\n",
    "    v[i] = tf.Variable(w[i], dtype=tf.float32) # Variable 생성\n",
    "#연산 \n",
    "u = p[0]*v[0] + p[1]*v[1] + p[2]*v[2] + p[3]*v[3] + p[4]*v[4] + b     \n"
   ]
  },
  {
   "cell_type": "code",
   "execution_count": 13,
   "metadata": {
    "collapsed": false
   },
   "outputs": [
    {
     "name": "stdout",
     "output_type": "stream",
     "text": [
      "[ 125.]\n"
     ]
    }
   ],
   "source": [
    "sess = tf.Session()                            # 세션 생성\n",
    "init = tf.global_variables_initializer()       # Variable 초기화 함수\n",
    "sess.run( init )                               # Variable 초기화\n",
    "result = sess.run(u, feed_dict=feed_dict)      # 연산 계산과, placeholder에 피드\n",
    "print(result)"
   ]
  }
 ],
 "metadata": {
  "anaconda-cloud": {},
  "kernelspec": {
   "display_name": "Python [default]",
   "language": "python",
   "name": "python3"
  },
  "language_info": {
   "codemirror_mode": {
    "name": "ipython",
    "version": 3
   },
   "file_extension": ".py",
   "mimetype": "text/x-python",
   "name": "python",
   "nbconvert_exporter": "python",
   "pygments_lexer": "ipython3",
   "version": "3.5.2"
  }
 },
 "nbformat": 4,
 "nbformat_minor": 1
}
