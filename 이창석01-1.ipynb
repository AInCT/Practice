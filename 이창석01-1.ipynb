{
 "cells": [
  {
   "cell_type": "code",
   "execution_count": 2,
   "metadata": {
    "collapsed": true
   },
   "outputs": [],
   "source": [
    "import tensorflow as tf   #tensorflow 불러옴"
   ]
  },
  {
   "cell_type": "code",
   "execution_count": 3,
   "metadata": {
    "collapsed": false
   },
   "outputs": [],
   "source": [
    "x = tf.placeholder(dtype=tf.float32, shape=[1,5])  #placeholder를 1행 5열 구조로 생성\n",
    "feed_dict = {x : [[3,5,7,9,11]]}                   #placeholder에 피드할 1행 5열의 값\n",
    "#Variable에 5행 1열의 구조로 값을 넣어 생성\n",
    "w = tf.Variable([[1],[2],[3],[4],[5]], dtype = tf.float32)  \n",
    "b = tf.zeros([1])                                  # 바이어스\n",
    "a = tf.matmul(x,w)                                 # 두 행렬을 곱하는 함수\n",
    "value= a+b"
   ]
  },
  {
   "cell_type": "code",
   "execution_count": 4,
   "metadata": {
    "collapsed": false
   },
   "outputs": [
    {
     "name": "stdout",
     "output_type": "stream",
     "text": [
      "[[ 125.]]\n"
     ]
    }
   ],
   "source": [
    "sess = tf.Session()                                #세션 생성\n",
    "init = tf.global_variables_initializer()           #Variable를 초기화 시키는 함수\n",
    "sess.run( init )                                   #실제 Variable를 초기화 시캄 \n",
    "result = sess.run( value, feed_dict = feed_dict )  #행렬 곱 실행과 placeholder에 값 넣음\n",
    "print(result)\n"
   ]
  },
  {
   "cell_type": "code",
   "execution_count": null,
   "metadata": {
    "collapsed": true
   },
   "outputs": [],
   "source": []
  }
 ],
 "metadata": {
  "anaconda-cloud": {},
  "kernelspec": {
   "display_name": "Python [default]",
   "language": "python",
   "name": "python3"
  },
  "language_info": {
   "codemirror_mode": {
    "name": "ipython",
    "version": 3
   },
   "file_extension": ".py",
   "mimetype": "text/x-python",
   "name": "python",
   "nbconvert_exporter": "python",
   "pygments_lexer": "ipython3",
   "version": "3.5.2"
  }
 },
 "nbformat": 4,
 "nbformat_minor": 1
}
