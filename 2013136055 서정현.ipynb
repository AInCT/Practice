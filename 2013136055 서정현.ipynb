{
 "cells": [
  {
   "cell_type": "code",
   "execution_count": 1,
   "metadata": {
    "collapsed": true
   },
   "outputs": [],
   "source": [
    "import tensorflow as tf"
   ]
  },
  {
   "cell_type": "code",
   "execution_count": 3,
   "metadata": {
    "collapsed": false
   },
   "outputs": [
    {
     "name": "stdout",
     "output_type": "stream",
     "text": [
      "[[ 125.]]\n"
     ]
    }
   ],
   "source": [
    "X = tf.placeholder(dtype = tf.float32 ,shape=[1,5])\n",
    "#c = tf.constant([3,5,7,9,11], dtype = tf.float32, shape=[1,5])\n",
    "feed_dict = { X : [[3,5,7,9,11]] }\n",
    "W = tf.Variable([[1],[2],[3],[4],[5]], dtype = tf.float32)\n",
    "bias = tf.zeros([1])\n",
    "\n",
    "calc = tf.matmul(X,W)\n",
    "sess = tf.Session()\n",
    "init = tf.global_variables_initializer()\n",
    "sess.run( init )\n",
    "calc2 = sess.run(calc, feed_dict=feed_dict)\n",
    "#calc2 = sess.run(calc)\n",
    "y = sess.run(calc2+bias)\n",
    "print(y)"
   ]
  },
  {
   "cell_type": "code",
   "execution_count": 10,
   "metadata": {
    "collapsed": false
   },
   "outputs": [
    {
     "name": "stdout",
     "output_type": "stream",
     "text": [
      "[ 125.]\n"
     ]
    }
   ],
   "source": [
    "x1 = 3\n",
    "x2 = 5\n",
    "x3 = 7\n",
    "x4 = 9\n",
    "x5 = 11\n",
    "\n",
    "X1 = tf.placeholder(dtype = tf.float32)\n",
    "X2 = tf.placeholder(dtype = tf.float32)\n",
    "X3 = tf.placeholder(dtype = tf.float32)\n",
    "X4 = tf.placeholder(dtype = tf.float32)\n",
    "X5 = tf.placeholder(dtype = tf.float32)\n",
    "\n",
    "feed_dict = { X1 : x1, X2 : x2, X3 : x3, X4 : x4, X5 : x5 }\n",
    "\n",
    "w1 = 1\n",
    "w2 = 2\n",
    "w3 = 3\n",
    "w4 = 4\n",
    "w5 = 5\n",
    "\n",
    "W1 = tf.Variable([w1], dtype = tf.float32)\n",
    "W2 = tf.Variable([w2], dtype = tf.float32)\n",
    "W3 = tf.Variable([w3], dtype = tf.float32)\n",
    "W4 = tf.Variable([w4], dtype = tf.float32)\n",
    "W5 = tf.Variable([w5], dtype = tf.float32)\n",
    "bias = tf.zeros([1])\n",
    "\n",
    "sess = tf.Session()\n",
    "init = tf.global_variables_initializer()\n",
    "sess.run( init )\n",
    "y = X1*W1 + X2*W2 + X3*W3 + X4*W4 + X5*W5 + bias\n",
    "result = sess.run(y, feed_dict=feed_dict)\n",
    "print(result)"
   ]
  },
  {
   "cell_type": "code",
   "execution_count": null,
   "metadata": {
    "collapsed": true
   },
   "outputs": [],
   "source": []
  }
 ],
 "metadata": {
  "anaconda-cloud": {},
  "kernelspec": {
   "display_name": "Python [default]",
   "language": "python",
   "name": "python3"
  },
  "language_info": {
   "codemirror_mode": {
    "name": "ipython",
    "version": 3
   },
   "file_extension": ".py",
   "mimetype": "text/x-python",
   "name": "python",
   "nbconvert_exporter": "python",
   "pygments_lexer": "ipython3",
   "version": "3.5.2"
  }
 },
 "nbformat": 4,
 "nbformat_minor": 1
}
